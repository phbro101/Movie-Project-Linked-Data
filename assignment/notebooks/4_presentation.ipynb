{
 "cells": [
  {
   "cell_type": "markdown",
   "metadata": {},
   "source": [
    "# For the presentation\n",
    "\n",
    "Use your generated dataset and __provide some “interesting” insights__ from the obtained data. For example, you can show which directors/actors participate most in the top 250 movies, or whether the number of received awards correlates with the BoxOffice/Gross value, etc. To this end, you can also incorporate further data, such as the number of awards for the directors and/or actors. \n",
    "\n",
    "You can also use __LinkedMDB__ for integrating additional information\n",
    "> They are offline, but the latest RDF dump is here: http://www.cs.toronto.edu/~oktie/linkedmdb/. Use RDFLib to load that dataset and to query the graph for additional information\n",
    "\n",
    "\n",
    "Intersting insights can be for example, \n",
    "- Which directors/actors participate most in the top 250 movies? \n",
    "- Does the number of received awards correlate with the BoxOffice/Gross value?\n",
    "- Which directors have received the most awards and do more awards mean better movies?\n",
    "- Which movie genre is most prominent in the the 250 movies?\n",
    "\n",
    "\n",
    "## Suggestion for presentation\n",
    "\n",
    "Show some interesting results during your presentation. Provide the source code for this “extra task” at presentation time via updating your Git repository. \n",
    "\n",
    "\n",
    "\n",
    "\n"
   ]
  },
  {
   "cell_type": "code",
   "execution_count": null,
   "metadata": {},
   "outputs": [],
   "source": []
  },
  {
   "cell_type": "code",
   "execution_count": 1,
   "metadata": {},
   "outputs": [],
   "source": [
    "# example code"
   ]
  }
 ],
 "metadata": {
  "kernelspec": {
   "display_name": "Python 3",
   "language": "python",
   "name": "python3"
  },
  "language_info": {
   "codemirror_mode": {
    "name": "ipython",
    "version": 3
   },
   "file_extension": ".py",
   "mimetype": "text/x-python",
   "name": "python",
   "nbconvert_exporter": "python",
   "pygments_lexer": "ipython3",
   "version": "3.7.7"
  }
 },
 "nbformat": 4,
 "nbformat_minor": 4
}
