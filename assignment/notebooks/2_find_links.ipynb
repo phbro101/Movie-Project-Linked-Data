{
 "cells": [
  {
   "cell_type": "markdown",
   "metadata": {
    "pycharm": {
     "name": "#%% md\n"
    }
   },
   "source": [
    "# Task: Find corresponding data in DBpedia and Wikidata"
   ]
  },
  {
   "cell_type": "markdown",
   "metadata": {
    "pycharm": {
     "is_executing": false,
     "name": "#%% md\n"
    }
   },
   "source": [
    "## Overview:\n",
    "Find instances in DBpedia and Wikidata equivalent/co-refer to the movies in your RDF data set, this means, find resources that you can link to via the _owl:sameAs_ property\n",
    "\n",
    "\n",
    "## Task Details \n",
    "\n",
    "1. Use the SPARQL Endpoints of DBpedia (https://dbpedia.org/sparql) and Wikidata (https://query.wikidata.org) to get the data\n",
    "> __Hint__: Try a few queries in the SPARQL endpoints before incporporating the query in your code\n",
    "2. If using Python, you  can query the SPARQL endpoints with RDFLib or SPARQLWrapper. To find the correct match, you can use the title of the movie, its publication date (or year), and/or the directors' names. \n",
    "> __Hint__: Exact matches do not always get the desired results, as labels might be different across Knowledge bases, e.g., “Charles Chaplin” vs. “Charlie Chaplin”\n",
    "3. If a match is found, add the one correct _owl:sameAs_ link to the DBpedia and the one correct link to the Wikidata resource to your dataset from Task 1, e.g.,\n",
    "`<https://firstname-lastname.org/resource/the_godfather> owl:sameAs  <http://dbpedia.org/resource/The_Godfather>`\n",
    "> __Hint__: Use RDFLib to load the data you have saved in Task 1 and add the links to the corresponding movies\n",
    "\n",
    "<br>\n",
    "\n",
    "## Sumission 2: \n",
    "\n",
    "Save the new dataset containing _owl:sameAs_ statements in N3 in the output folder with the naming __movies_task_2.n3__.\n"
   ]
  },
  {
   "cell_type": "markdown",
   "metadata": {
    "pycharm": {
     "is_executing": false,
     "name": "#%% md\n"
    }
   },
   "source": [
    "<br>\n",
    "\n",
    "## Your code"
   ]
  },
  {
   "cell_type": "code",
   "execution_count": 137,
   "metadata": {},
   "outputs": [],
   "source": [
    "from rdflib import URIRef, Literal, Graph, Namespace\n",
    "from rdflib.namespace import FOAF, RDF, RDFS, XSD, DC\n",
    "import urllib\n",
    "from datetime import datetime\n",
    "from SPARQLWrapper import SPARQLWrapper, JSON, N3"
   ]
  },
  {
   "cell_type": "code",
   "execution_count": 181,
   "metadata": {},
   "outputs": [],
   "source": [
    "sparql_query = \"\"\"\n",
    "    PREFIX rdf: <http://www.w3.org/1999/02/22-rdf-syntax-ns#>\n",
    "    PREFIX dbo: <http://dbpedia.org/ontology/>\n",
    "    PREFIX rdfs: <http://www.w3.org/2000/01/rdf-schema#>\n",
    "    PREFIX dc:  <http://purl.org/dc/elements/1.1/>\n",
    "\n",
    "    Select distinct ?scientist ?name ?birthdate ?description ?thumbnail WHERE {\n",
    "        ?scientist rdf:type dbo:Scientist ;           \n",
    "            rdfs:label ?name ;\n",
    "            dbo:birthDate ?birthdate; \n",
    "            dct:description ?description .\n",
    "     FILTER ((lang(?name)=\"en\") && (lang(?description)=\"en\") \n",
    "                 && (SUBSTR(STR(?birthdate),6)=SUBSTR(STR(bif:curdate('')),6)) \n",
    "                 && (STRLEN(STR(?birthdate))>6)) .\n",
    "     OPTIONAL {?scientist dbo:thumbnail ?thumbnail }.\n",
    "    }\n",
    "\"\"\"\n",
    "\n",
    "\n",
    "sparql_query_db = \"\"\"\n",
    "    PREFIX rdf: <http://www.w3.org/1999/02/22-rdf-syntax-ns#>\n",
    "    PREFIX dbo: <http://dbpedia.org/ontology/>\n",
    "    PREFIX rdfs: <http://www.w3.org/2000/01/rdf-schema#>\n",
    "\n",
    "    Select distinct ?movie ?title ?director ?director_name WHERE {\n",
    "        ?movie rdf:type dbo:Film ;\n",
    "            rdfs:label ?title ;\n",
    "            dbo:director ?director .\n",
    "        ?director foaf:name ?director_name .\n",
    "    FILTER (lang(?title) = \"en\" && contains(?title, \"The Apartment\") || contains(\"The Apartment\", ?title)) \n",
    "    FILTER (contains(?director_name, \"Billy Wilder\") || contains(\"Billy Wilder\", ?director_name)) .\n",
    "    }\n",
    "\"\"\"\n",
    "\n",
    "# create the query with positional variables which we can format later\n",
    "sparql_query_db = \"\"\"\n",
    "    PREFIX rdf: <http://www.w3.org/1999/02/22-rdf-syntax-ns#>\n",
    "    PREFIX dbo: <http://dbpedia.org/ontology/>\n",
    "    PREFIX rdfs: <http://www.w3.org/2000/01/rdf-schema#>\n",
    "\n",
    "    Select distinct ?movie ?title ?director ?director_name WHERE {\n",
    "        ?movie rdf:type dbo:Film ;\n",
    "            rdfs:label ?title ;\n",
    "            dbo:director ?director .\n",
    "        ?director foaf:name ?director_name .\n",
    "    FILTER (lang(?title) = \"en\" && contains(?title, {title}) || contains({title}, ?title)) \n",
    "    FILTER (contains(?director_name, {director}) || contains({director}, ?director_name)) .\n",
    "    }\n",
    "\"\"\"\n",
    "\n",
    "sparql_query_wd = \"\"\"\n",
    "    PREFIX rdf: <http://www.w3.org/1999/02/22-rdf-syntax-ns#>\n",
    "    PREFIX dbo: <http://dbpedia.org/ontology/>\n",
    "    PREFIX rdfs: <http://www.w3.org/2000/01/rdf-schema#>\n",
    "    PREFIX xsd: <http://www.w3.org/2001/XMLSchema#>\n",
    "    \n",
    "    Select distinct ?movie ?title ?director ?director_name WHERE {\n",
    "        ?movie rdf\n",
    "    }\n",
    "\n",
    "\"\"\""
   ]
  },
  {
   "cell_type": "code",
   "execution_count": 165,
   "metadata": {},
   "outputs": [],
   "source": [
    "sparql = SPARQLWrapper(\"https://dbpedia.org/sparql\")\n",
    "sparql.setQuery(sparql_query_db)\n",
    "\n",
    "sparql.setReturnFormat(JSON)\n",
    "results = sparql.query().convert()"
   ]
  },
  {
   "cell_type": "code",
   "execution_count": 184,
   "metadata": {},
   "outputs": [
    {
     "data": {
      "text/plain": [
       "_io.TextIOWrapper"
      ]
     },
     "execution_count": 184,
     "metadata": {},
     "output_type": "execute_result"
    }
   ],
   "source": [
    "sparql = SPARQLWrapper(\"https://dbpedia.org/sparql\")\n",
    "file = open('../output_data/movies_task_1.n3')\n",
    "type(file)"
   ]
  },
  {
   "cell_type": "code",
   "execution_count": 185,
   "metadata": {},
   "outputs": [],
   "source": [
    "Graph?"
   ]
  },
  {
   "cell_type": "code",
   "execution_count": 166,
   "metadata": {},
   "outputs": [
    {
     "data": {
      "text/plain": [
       "[{'movie': {'type': 'uri',\n",
       "   'value': 'http://dbpedia.org/resource/The_Apartment'},\n",
       "  'title': {'type': 'literal', 'xml:lang': 'en', 'value': 'The Apartment'},\n",
       "  'director': {'type': 'uri',\n",
       "   'value': 'http://dbpedia.org/resource/Billy_Wilder'},\n",
       "  'director_name': {'type': 'literal',\n",
       "   'xml:lang': 'en',\n",
       "   'value': 'Billy Wilder'}}]"
      ]
     },
     "execution_count": 166,
     "metadata": {},
     "output_type": "execute_result"
    }
   ],
   "source": [
    "results['results']['bindings']"
   ]
  },
  {
   "cell_type": "code",
   "execution_count": 130,
   "metadata": {},
   "outputs": [
    {
     "name": "stdout",
     "output_type": "stream",
     "text": [
      "http://dbpedia.org/resource/Pramathesh_Barua\n",
      "http://dbpedia.org/resource/Pramathesh_Barua\n",
      "http://dbpedia.org/resource/Pramathesh_Barua\n"
     ]
    }
   ],
   "source": [
    "for line in results['results']['bindings']:\n",
    "    if 'Pramathesh Barua' in line['director_name']['value'] :\n",
    "        print(line['director']['value'])"
   ]
  },
  {
   "cell_type": "code",
   "execution_count": null,
   "metadata": {},
   "outputs": [],
   "source": []
  }
 ],
 "metadata": {
  "kernelspec": {
   "display_name": "Python 3",
   "language": "python",
   "name": "python3"
  },
  "language_info": {
   "codemirror_mode": {
    "name": "ipython",
    "version": 3
   },
   "file_extension": ".py",
   "mimetype": "text/x-python",
   "name": "python",
   "nbconvert_exporter": "python",
   "pygments_lexer": "ipython3",
   "version": "3.7.7"
  },
  "pycharm": {
   "stem_cell": {
    "cell_type": "raw",
    "metadata": {
     "collapsed": false
    },
    "source": []
   }
  }
 },
 "nbformat": 4,
 "nbformat_minor": 4
}
